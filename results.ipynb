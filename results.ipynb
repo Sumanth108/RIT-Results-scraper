{
 "nbformat": 4,
 "nbformat_minor": 2,
 "metadata": {
  "language_info": {
   "name": "python",
   "codemirror_mode": {
    "name": "ipython",
    "version": 3
   },
   "version": "3.7.4-final"
  },
  "orig_nbformat": 2,
  "file_extension": ".py",
  "mimetype": "text/x-python",
  "name": "python",
  "npconvert_exporter": "python",
  "pygments_lexer": "ipython3",
  "version": 3,
  "kernelspec": {
   "name": "python37464bitbaseconda3e8f057eff244fec8a13fc9818b9ca77",
   "display_name": "Python 3.7.4 64-bit ('base': conda)"
  }
 },
 "cells": [
  {
   "cell_type": "code",
   "execution_count": 37,
   "metadata": {},
   "outputs": [],
   "source": [
    "from selenium import webdriver\n",
    "from selenium.common.exceptions import NoSuchElementException     \n",
    "\n",
    "\n"
   ]
  },
  {
   "cell_type": "code",
   "execution_count": 38,
   "metadata": {},
   "outputs": [],
   "source": [
    "chrome = webdriver.Chrome(r\"C:\\Sai\\selenium\\chromedriver_win32\\chromedriver.exe\")   #Enter the path to chromedriver.exe"
   ]
  },
  {
   "cell_type": "code",
   "execution_count": 40,
   "metadata": {},
   "outputs": [],
   "source": [
    "chrome.get(\"http://exam.msrit.edu/\")"
   ]
  },
  {
   "cell_type": "code",
   "execution_count": 41,
   "metadata": {},
   "outputs": [],
   "source": [
    "captcha= \"8RQCH\"                #Enter captcha after seeing it in the automated window"
   ]
  },
  {
   "cell_type": "code",
   "execution_count": 42,
   "metadata": {},
   "outputs": [],
   "source": [
    "sgpa = {}\n",
    "cgpa= {}"
   ]
  },
  {
   "cell_type": "code",
   "execution_count": null,
   "metadata": {},
   "outputs": [],
   "source": [
    "for i in range(1,150):\n",
    "    USN = chrome.find_element_by_xpath('//*[@id=\"usn\"]')\n",
    "    capt= chrome.find_element_by_xpath('//*[@id=\"osolCatchaTxt0\"]')\n",
    "    USN.send_keys(\"1MS18IS\"+str(f\"{i:03}\"))\n",
    "    capt.send_keys(captcha)\n",
    "    chrome.find_element_by_xpath('//*[@id=\"main\"]/div/table/tbody/tr[8]/td/div/form/table/tbody/tr[3]/td[1]/input').click()\n",
    "    try:\n",
    "        sgpa[i]=chrome.find_element_by_xpath('//*[@id=\"main\"]/div/table/tbody/tr[11]/td/table/tbody/tr/td[2]/table/tbody/tr/td[4]/div/span[2]').text\n",
    "        cgpa[i]=chrome.find_element_by_xpath('//*[@id=\"main\"]/div/table/tbody/tr[11]/td/table/tbody/tr/td[2]/table/tbody/tr/td[5]/div/span[2]').text\n",
    "        chrome.back()\n",
    "    except NoSuchElementException:   #For those USNs that do not exist\n",
    "        chrome.back()"
   ]
  }
 ]
}
